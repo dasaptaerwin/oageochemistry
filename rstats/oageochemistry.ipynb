{
 "cells": [
  {
   "cell_type": "markdown",
   "metadata": {},
   "source": [
    "# setting up project"
   ]
  },
  {
   "cell_type": "code",
   "execution_count": 7,
   "metadata": {},
   "outputs": [
    {
     "name": "stderr",
     "output_type": "stream",
     "text": [
      "also installing the dependencies ‘backports’, ‘ellipsis’, ‘zeallot’, ‘lattice’, ‘glue’, ‘magrittr’, ‘stringi’, ‘colorspace’, ‘assertthat’, ‘utf8’, ‘vctrs’, ‘nlme’, ‘Matrix’, ‘plyr’, ‘stringr’, ‘farver’, ‘labeling’, ‘munsell’, ‘RColorBrewer’, ‘lifecycle’, ‘cli’, ‘fansi’, ‘pillar’, ‘pkgconfig’, ‘gtable’, ‘lazyeval’, ‘MASS’, ‘mgcv’, ‘reshape2’, ‘rlang’, ‘scales’, ‘tibble’, ‘viridisLite’, ‘withr’\n",
      "\n",
      "Warning message in install.packages(\"ggplot2\"):\n",
      "“installation of package ‘backports’ had non-zero exit status”Warning message in install.packages(\"ggplot2\"):\n",
      "“installation of package ‘lattice’ had non-zero exit status”Warning message in install.packages(\"ggplot2\"):\n",
      "“installation of package ‘glue’ had non-zero exit status”Warning message in install.packages(\"ggplot2\"):\n",
      "“installation of package ‘stringi’ had non-zero exit status”Warning message in install.packages(\"ggplot2\"):\n",
      "“installation of package ‘colorspace’ had non-zero exit status”Warning message in install.packages(\"ggplot2\"):\n",
      "“installation of package ‘utf8’ had non-zero exit status”Warning message in install.packages(\"ggplot2\"):\n",
      "“installation of package ‘plyr’ had non-zero exit status”Warning message in install.packages(\"ggplot2\"):\n",
      "“installation of package ‘farver’ had non-zero exit status”Warning message in install.packages(\"ggplot2\"):\n",
      "“installation of package ‘fansi’ had non-zero exit status”Warning message in install.packages(\"ggplot2\"):\n",
      "“installation of package ‘lazyeval’ had non-zero exit status”Warning message in install.packages(\"ggplot2\"):\n",
      "“installation of package ‘MASS’ had non-zero exit status”Warning message in install.packages(\"ggplot2\"):\n",
      "“installation of package ‘rlang’ had non-zero exit status”Warning message in install.packages(\"ggplot2\"):\n",
      "“installation of package ‘ellipsis’ had non-zero exit status”Warning message in install.packages(\"ggplot2\"):\n",
      "“installation of package ‘nlme’ had non-zero exit status”Warning message in install.packages(\"ggplot2\"):\n",
      "“installation of package ‘Matrix’ had non-zero exit status”Warning message in install.packages(\"ggplot2\"):\n",
      "“installation of package ‘stringr’ had non-zero exit status”Warning message in install.packages(\"ggplot2\"):\n",
      "“installation of package ‘munsell’ had non-zero exit status”Warning message in install.packages(\"ggplot2\"):\n",
      "“installation of package ‘lifecycle’ had non-zero exit status”Warning message in install.packages(\"ggplot2\"):\n",
      "“installation of package ‘cli’ had non-zero exit status”Warning message in install.packages(\"ggplot2\"):\n",
      "“installation of package ‘vctrs’ had non-zero exit status”Warning message in install.packages(\"ggplot2\"):\n",
      "“installation of package ‘mgcv’ had non-zero exit status”Warning message in install.packages(\"ggplot2\"):\n",
      "“installation of package ‘reshape2’ had non-zero exit status”Warning message in install.packages(\"ggplot2\"):\n",
      "“installation of package ‘scales’ had non-zero exit status”Warning message in install.packages(\"ggplot2\"):\n",
      "“installation of package ‘pillar’ had non-zero exit status”Warning message in install.packages(\"ggplot2\"):\n",
      "“installation of package ‘tibble’ had non-zero exit status”Warning message in install.packages(\"ggplot2\"):\n",
      "“installation of package ‘ggplot2’ had non-zero exit status”Updating HTML index of packages in '.Library'\n",
      "Making 'packages.html' ... done\n"
     ]
    }
   ],
   "source": [
    "# load libraries\n",
    "install.packages(\"ggplot2\") # hanya bila anda belum menginstalasinya"
   ]
  },
  {
   "cell_type": "code",
   "execution_count": 8,
   "metadata": {},
   "outputs": [
    {
     "ename": "ERROR",
     "evalue": "Error in library(ggplot2): there is no package called ‘ggplot2’\n",
     "output_type": "error",
     "traceback": [
      "Error in library(ggplot2): there is no package called ‘ggplot2’\nTraceback:\n",
      "1. library(ggplot2)"
     ]
    }
   ],
   "source": [
    "library(ggplot2)"
   ]
  },
  {
   "cell_type": "code",
   "execution_count": null,
   "metadata": {},
   "outputs": [],
   "source": []
  }
 ],
 "metadata": {
  "kernelspec": {
   "display_name": "R",
   "language": "R",
   "name": "ir"
  },
  "language_info": {
   "codemirror_mode": "r",
   "file_extension": ".r",
   "mimetype": "text/x-r-source",
   "name": "R",
   "pygments_lexer": "r",
   "version": "3.6.0"
  }
 },
 "nbformat": 4,
 "nbformat_minor": 2
}
